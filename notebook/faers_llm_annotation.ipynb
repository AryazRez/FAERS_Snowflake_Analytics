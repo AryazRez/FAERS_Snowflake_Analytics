import pandas as pd
import openai
import time

# ============ 1. READ & SPLIT SINGLE-COLUMN CSV ============

# Load the file (all data in one column)
df_raw = pd.read_csv('faers_sample.csv', header=None, names=['raw'])

# Split the column into fields (delimiter is '$')
split_cols = df_raw['raw'].str.split('$', expand=True)

# Use first row as header, rest as data
split_cols.columns = split_cols.iloc[0]
split_cols = split_cols.drop(0).reset_index(drop=True)

# Check available columns
print("Available columns:", split_cols.columns.tolist())
print(split_cols.head(3))

# ============ 2. PREP FOR LLM PROCESSING ============

# Add columns for LLM output
split_cols['AI_SUMMARY'] = ""
split_cols['AI_SEVERITY'] = ""

# Prompt builder for GPT
def build_prompt(pt):
    return (
        f"Summarize the following adverse event in one sentence for a clinical safety reviewer:\n\n"
        f"Event: {pt}\n\n"
        "Then, classify the event as 'mild', 'moderate', 'severe', or 'death'. "
        "Return your answer as two lines: first the summary, then the classification."
    )

# ============ 3. OPENAI API CONFIG (v1.x syntax) ============

client = openai.OpenAI(api_key="YOUR_OPENAI_API_KEY")   # Insert your key here

# ============ 4. LLM INFERENCE LOOP (v1.x syntax) ============

for idx, row in split_cols.iterrows():
    pt_value = str(row['pt']) if pd.notnull(row['pt']) else "Unknown event"
    prompt = build_prompt(pt_value)
    try:
        response = client.chat.completions.create(
            model="gpt-3.5-turbo",   # Or gpt-4 if you have access
            messages=[
                {"role": "system", "content": "You are an expert clinical safety reviewer."},
                {"role": "user", "content": prompt}
            ],
            max_tokens=100,
            temperature=0.2
        )
        # Extract the AI output
        ai_output = response.choices[0].message.content.strip().split('\n')
        if len(ai_output) >= 2:
            split_cols.at[idx, 'AI_SUMMARY'] = ai_output[0]
            split_cols.at[idx, 'AI_SEVERITY'] = ai_output[1]
        else:
            split_cols.at[idx, 'AI_SUMMARY'] = ai_output[0]
            split_cols.at[idx, 'AI_SEVERITY'] = ""
    except Exception as e:
        print(f"OpenAI API error at row {idx}: {e}")
        split_cols.at[idx, 'AI_SUMMARY'] = "API_ERROR"
        split_cols.at[idx, 'AI_SEVERITY'] = ""
    time.sleep(0.6)  # Respect OpenAI rate limits

# ============ 5. SAVE FINAL DATA ============

split_cols.to_csv('faers_sample_ai_output.csv', index=False)
print("AI annotation complete. Output saved to faers_sample_ai_output.csv")
